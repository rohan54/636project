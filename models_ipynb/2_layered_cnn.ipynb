{
  "nbformat": 4,
  "nbformat_minor": 0,
  "metadata": {
    "colab": {
      "name": "2 layered cnn.ipynb",
      "version": "0.3.2",
      "provenance": []
    },
    "kernelspec": {
      "name": "python3",
      "display_name": "Python 3"
    },
    "accelerator": "GPU"
  },
  "cells": [
    {
      "cell_type": "code",
      "metadata": {
        "id": "cMFuSUorXNzi",
        "colab_type": "code",
        "colab": {
          "base_uri": "https://localhost:8080/",
          "height": 125
        },
        "outputId": "9d9a4695-f2e5-4055-c852-d13e5e4e0a5b"
      },
      "source": [
        "from google.colab import drive\n",
        "drive.mount('/content/drive', force_remount=True)"
      ],
      "execution_count": 1,
      "outputs": [
        {
          "output_type": "stream",
          "text": [
            "Go to this URL in a browser: https://accounts.google.com/o/oauth2/auth?client_id=947318989803-6bn6qk8qdgf4n4g3pfee6491hc0brc4i.apps.googleusercontent.com&redirect_uri=urn%3Aietf%3Awg%3Aoauth%3A2.0%3Aoob&scope=email%20https%3A%2F%2Fwww.googleapis.com%2Fauth%2Fdocs.test%20https%3A%2F%2Fwww.googleapis.com%2Fauth%2Fdrive%20https%3A%2F%2Fwww.googleapis.com%2Fauth%2Fdrive.photos.readonly%20https%3A%2F%2Fwww.googleapis.com%2Fauth%2Fpeopleapi.readonly&response_type=code\n",
            "\n",
            "Enter your authorization code:\n",
            "··········\n",
            "Mounted at /content/drive\n"
          ],
          "name": "stdout"
        }
      ]
    },
    {
      "cell_type": "code",
      "metadata": {
        "id": "gjO-fuPOPo-9",
        "colab_type": "code",
        "colab": {}
      },
      "source": [
        "import scipy.io as io\n",
        "dict1        = io.loadmat('drive/My Drive/test_folder/dict5000')\n",
        "train_img    = dict1[\"train_img\"]\n",
        "train_labels = dict1[\"train_labels\"]\n",
        "test_img     = dict1[\"test_img\"]\n",
        "test_labels  = dict1[\"test_labels\"]\n",
        "val_img      = dict1[\"val_img\"]\n",
        "val_labels   = dict1[\"val_labels\"]"
      ],
      "execution_count": 0,
      "outputs": []
    },
    {
      "cell_type": "code",
      "metadata": {
        "id": "feIrPnzqWt1i",
        "colab_type": "code",
        "colab": {}
      },
      "source": [
        "import numpy as np\n",
        "train_labels = train_labels.astype(np.int)\n",
        "val_labels = val_labels.astype(np.int)\n",
        "test_labels = test_labels.astype(np.int)"
      ],
      "execution_count": 0,
      "outputs": []
    },
    {
      "cell_type": "code",
      "metadata": {
        "id": "WEtW1tY56kii",
        "colab_type": "code",
        "outputId": "011f143e-169b-4200-b2ce-fde865999946",
        "colab": {
          "base_uri": "https://localhost:8080/",
          "height": 141
        }
      },
      "source": [
        "print(\"Shapes:\")\n",
        "print(\"Train:\")\n",
        "print(train_img.shape)\n",
        "print(\"Val:\")\n",
        "print(val_img.shape)\n",
        "print(\"Test:\")\n",
        "print(test_img.shape)"
      ],
      "execution_count": 6,
      "outputs": [
        {
          "output_type": "stream",
          "text": [
            "Shapes:\n",
            "Train:\n",
            "(5062, 96, 72, 3)\n",
            "Val:\n",
            "(534, 96, 72, 3)\n",
            "Test:\n",
            "(1212, 96, 72, 3)\n"
          ],
          "name": "stdout"
        }
      ]
    },
    {
      "cell_type": "code",
      "metadata": {
        "id": "UAFbxtWHv1NO",
        "colab_type": "code",
        "colab": {}
      },
      "source": [
        "import matplotlib.pyplot as plt\n",
        "\n",
        "def plot_graph(results, param):\n",
        "  vals = results.history[\"val_\"+param]\n",
        "  trains = results.history[param]\n",
        "  plt.plot(range(1,len(vals)+1), vals, 'r--',label = \"val\")\n",
        "  plt.plot(range(1,len(trains)+1), trains,'b--',label = \"train\")\n",
        "  plt.legend()\n",
        "  plt.show()"
      ],
      "execution_count": 0,
      "outputs": []
    },
    {
      "cell_type": "code",
      "metadata": {
        "id": "mSEDdtRpRAbn",
        "colab_type": "code",
        "colab": {}
      },
      "source": [
        "from keras.models import load_model\n",
        "#Train Model\n",
        "#Train model in 15 epochs with each epoch consisting of 128 batches.\n",
        "def train_evaluate(model_fn, epoch,batch_size, verbose, train_img7, train_labels7, val_img7,val_labels7, test_img7, test_labels7):\n",
        "  model = model_fn()\n",
        "  model.save('model.h5')\n",
        "  print(\"model name:\",model,\" epoch:\", epoch )\n",
        "  if(val_img7 is None or val_labels7 is None):\n",
        "    fitted = model.fit(train_img7, train_labels7, epochs=epoch, batch_size = batch_size, verbose =verbose,validation_split=0.4, shuffle=True)\n",
        "  else:\n",
        "    fitted = model.fit(train_img7, train_labels7, epochs=epoch, batch_size = batch_size, verbose =verbose,validation_data=(val_img7,val_labels7))\n",
        "\n",
        "  #Test Model\n",
        "  #Evaluate model on Train data\n",
        "  train_loss, train_acc = model.evaluate(train_img7, train_labels7, verbose =verbose)\n",
        "  print('train_acc:', train_acc)\n",
        "  print('train_loss:', train_loss)\n",
        "\n",
        "  #Evaluate model on Test data\n",
        "  test_loss, test_acc = model.evaluate(test_img7, test_labels7, verbose =verbose)\n",
        "  print('test_acc:', test_acc)\n",
        "  print('train_loss:', test_loss)\n",
        "  \n",
        "  #Print graphs to select epoch size\n",
        "  print(\"Acc Graphs:\")\n",
        "  plot_graph(fitted,\"acc\")\n",
        "  print(\"Loss Graphs:\")\n",
        "  plot_graph(fitted,\"loss\")\n",
        "  \n",
        "  #Select epoch with best val acc\n",
        "  vals = fitted.history[\"val_acc\"][1:]\n",
        "  e = vals.index(max(vals))+2\n",
        "  print(\"Ideal epoch size should be:\", e)\n",
        "  \n",
        "  #Train with train val combined on best epoch size\n",
        "  tv_img7 = np.append(train_img7,val_img7,axis=0)\n",
        "  tv_labels7 = np.append(train_labels7,val_labels7,axis=0)\n",
        "  model1 = load_model('model.h5')\n",
        "  print(\"Training on train, val combined on epoch size:\",e)\n",
        "  fitu1 = model1.fit( tv_img7, tv_labels7, epochs=e, batch_size = batch_size, verbose =1)\n",
        "  \n",
        "  print(\"Results after combining train,val on ideal epoch size:\", e)\n",
        "  #Test Model\n",
        "  #Evaluate model on Train data\n",
        "  train_loss1, train_acc1 = model1.evaluate(tv_img7, tv_labels7, verbose =1)\n",
        "  print('train_acc:', train_acc1)\n",
        "  print('train_loss:', train_loss1)\n",
        "\n",
        "  #Evaluate model on Test data\n",
        "  test_loss1, test_acc1 = model1.evaluate(r, test_labels, verbose =1)\n",
        "  print('test_acc:', test_acc1)\n",
        "  print('test_loss:', train_loss1)\n",
        "  \n",
        "  return model,model1"
      ],
      "execution_count": 0,
      "outputs": []
    },
    {
      "cell_type": "code",
      "metadata": {
        "id": "-dwTB6-xRNW_",
        "colab_type": "code",
        "colab": {}
      },
      "source": [
        "from keras import layers\n",
        "from keras import models\n",
        "from keras.optimizers import SGD\n",
        "from keras.layers import LeakyReLU\n",
        "from keras.applications.vgg16 import VGG16\n",
        "\n",
        "def get_new_model():\n",
        "  model5 = models.Sequential()\n",
        "  model5.add(layers.Conv2D(32, (3, 3), activation='relu', input_shape=(96, 72,  3)))\n",
        "  model5.add(layers.MaxPooling2D((2, 2)))\n",
        "  model5.add(layers.Dropout(0.1))\n",
        "  model5.add(layers.Conv2D(64, (3, 3), activation='relu'))\n",
        "  model5.add(layers.MaxPooling2D((2, 2)))\n",
        "  model5.add(layers.Flatten())\n",
        "  model5.add(layers.Dense(512, activation='relu'))\n",
        "  model5.add(layers.Dense(1, activation='sigmoid'))\n",
        "  model5.compile(optimizer = 'sgd', loss='binary_crossentropy',metrics=['accuracy'])\n",
        "  print(model5.summary())\n",
        "  return model5"
      ],
      "execution_count": 0,
      "outputs": []
    },
    {
      "cell_type": "code",
      "metadata": {
        "id": "CfYjN3ldRTGA",
        "colab_type": "code",
        "outputId": "d61b0a2d-95dd-46e9-ed8c-31059f4e1461",
        "colab": {
          "base_uri": "https://localhost:8080/",
          "height": 1963
        }
      },
      "source": [
        "p = train_img/255\n",
        "q = val_img/255\n",
        "r = test_img/255\n",
        "f1,f2 = train_evaluate(get_new_model, 10, 128, 1, p, train_labels, q, val_labels, r, test_labels)"
      ],
      "execution_count": 13,
      "outputs": [
        {
          "output_type": "stream",
          "text": [
            "_________________________________________________________________\n",
            "Layer (type)                 Output Shape              Param #   \n",
            "=================================================================\n",
            "conv2d_3 (Conv2D)            (None, 94, 70, 32)        896       \n",
            "_________________________________________________________________\n",
            "max_pooling2d_3 (MaxPooling2 (None, 47, 35, 32)        0         \n",
            "_________________________________________________________________\n",
            "dropout_2 (Dropout)          (None, 47, 35, 32)        0         \n",
            "_________________________________________________________________\n",
            "conv2d_4 (Conv2D)            (None, 45, 33, 64)        18496     \n",
            "_________________________________________________________________\n",
            "max_pooling2d_4 (MaxPooling2 (None, 22, 16, 64)        0         \n",
            "_________________________________________________________________\n",
            "flatten_2 (Flatten)          (None, 22528)             0         \n",
            "_________________________________________________________________\n",
            "dense_3 (Dense)              (None, 512)               11534848  \n",
            "_________________________________________________________________\n",
            "dense_4 (Dense)              (None, 1)                 513       \n",
            "=================================================================\n",
            "Total params: 11,554,753\n",
            "Trainable params: 11,554,753\n",
            "Non-trainable params: 0\n",
            "_________________________________________________________________\n",
            "None\n",
            "model name: <keras.engine.sequential.Sequential object at 0x7f605bf1b898>  epoch: 10\n",
            "WARNING:tensorflow:From /usr/local/lib/python3.6/dist-packages/tensorflow/python/ops/math_ops.py:3066: to_int32 (from tensorflow.python.ops.math_ops) is deprecated and will be removed in a future version.\n",
            "Instructions for updating:\n",
            "Use tf.cast instead.\n",
            "Train on 5062 samples, validate on 534 samples\n",
            "Epoch 1/10\n",
            "5062/5062 [==============================] - 10s 2ms/step - loss: 0.4464 - acc: 0.8098 - val_loss: 0.3481 - val_acc: 0.9288\n",
            "Epoch 2/10\n",
            "5062/5062 [==============================] - 7s 1ms/step - loss: 0.3876 - acc: 0.8236 - val_loss: 0.3974 - val_acc: 0.8333\n",
            "Epoch 3/10\n",
            "5062/5062 [==============================] - 7s 1ms/step - loss: 0.3437 - acc: 0.8422 - val_loss: 0.5258 - val_acc: 0.7509\n",
            "Epoch 4/10\n",
            "5062/5062 [==============================] - 7s 1ms/step - loss: 0.3349 - acc: 0.8554 - val_loss: 0.3135 - val_acc: 0.8427\n",
            "Epoch 5/10\n",
            "5062/5062 [==============================] - 7s 1ms/step - loss: 0.2955 - acc: 0.8789 - val_loss: 0.3375 - val_acc: 0.8390\n",
            "Epoch 6/10\n",
            "5062/5062 [==============================] - 7s 1ms/step - loss: 0.3108 - acc: 0.8728 - val_loss: 0.4429 - val_acc: 0.7734\n",
            "Epoch 7/10\n",
            "5062/5062 [==============================] - 7s 1ms/step - loss: 0.2737 - acc: 0.8911 - val_loss: 0.2981 - val_acc: 0.8464\n",
            "Epoch 8/10\n",
            "5062/5062 [==============================] - 7s 1ms/step - loss: 0.2655 - acc: 0.8915 - val_loss: 0.3760 - val_acc: 0.8240\n",
            "Epoch 9/10\n",
            "5062/5062 [==============================] - 7s 1ms/step - loss: 0.2620 - acc: 0.8933 - val_loss: 0.4326 - val_acc: 0.7547\n",
            "Epoch 10/10\n",
            "5062/5062 [==============================] - 7s 1ms/step - loss: 0.2597 - acc: 0.8947 - val_loss: 0.9707 - val_acc: 0.4064\n",
            "5062/5062 [==============================] - 3s 691us/step\n",
            "train_acc: 0.8781114184116949\n",
            "train_loss: 0.2971935448369599\n",
            "1212/1212 [==============================] - 1s 632us/step\n",
            "test_acc: 0.6798679867003223\n",
            "train_loss: 0.5940502963640509\n",
            "Acc Graphs:\n"
          ],
          "name": "stdout"
        },
        {
          "output_type": "display_data",
          "data": {
            "image/png": "[encoded data removed]",
            "text/plain": [
              "<Figure size 432x288 with 1 Axes>"
            ]
          },
          "metadata": {
            "tags": []
          }
        },
        {
          "output_type": "stream",
          "text": [
            "Loss Graphs:\n"
          ],
          "name": "stdout"
        },
        {
          "output_type": "display_data",
          "data": {
            "image/png": "[encoded data removed]",
            "text/plain": [
              "<Figure size 432x288 with 1 Axes>"
            ]
          },
          "metadata": {
            "tags": []
          }
        },
        {
          "output_type": "stream",
          "text": [
            "Ideal epoch size should be: 7\n",
            "Training on train, val combined on epoch size: 7\n",
            "Epoch 1/7\n",
            "5596/5596 [==============================] - 7s 1ms/step - loss: 0.4337 - acc: 0.8211\n",
            "Epoch 2/7\n",
            "5596/5596 [==============================] - 7s 1ms/step - loss: 0.3814 - acc: 0.8263\n",
            "Epoch 3/7\n",
            "5596/5596 [==============================] - 7s 1ms/step - loss: 0.3423 - acc: 0.8456\n",
            "Epoch 4/7\n",
            "5596/5596 [==============================] - 7s 1ms/step - loss: 0.3275 - acc: 0.8601\n",
            "Epoch 5/7\n",
            "5596/5596 [==============================] - 7s 1ms/step - loss: 0.2998 - acc: 0.8737\n",
            "Epoch 6/7\n",
            "5596/5596 [==============================] - 7s 1ms/step - loss: 0.2986 - acc: 0.8760\n",
            "Epoch 7/7\n",
            "5596/5596 [==============================] - 7s 1ms/step - loss: 0.2728 - acc: 0.8917\n",
            "Results after combining train,val on ideal epoch size: 7\n",
            "5596/5596 [==============================] - 4s 645us/step\n",
            "train_acc: 0.8833095068331699\n",
            "train_loss: 0.26146759336589276\n",
            "1212/1212 [==============================] - 1s 545us/step\n",
            "test_acc: 0.8473597359735974\n",
            "test_loss: 0.26146759336589276\n"
          ],
          "name": "stdout"
        }
      ]
    },
    {
      "cell_type": "code",
      "metadata": {
        "id": "dzxuo89gbdcR",
        "colab_type": "code",
        "outputId": "a7f107cf-36a4-4045-88be-a63da90868a3",
        "colab": {
          "base_uri": "https://localhost:8080/",
          "height": 70
        }
      },
      "source": [
        "print(\"In train, non zero labels: \",np.count_nonzero(train_labels), \"out of \", train_labels.shape[0], \"So accuracy shouldn't be :\",np.count_nonzero(train_labels)/train_labels.shape[0], \"or \", 1 -np.count_nonzero(train_labels)/train_labels.shape[0] )\n",
        "print(\"In val, non zero labels: \",np.count_nonzero(val_labels), \"out of \", val_labels.shape[0], \"So accuracy shouldn't be :\",np.count_nonzero(val_labels)/val_labels.shape[0], \"or \", 1 -np.count_nonzero(val_labels)/val_labels.shape[0] )\n",
        "print(\"In test, non zero labels: \",np.count_nonzero(test_labels), \"out of \", test_labels.shape[0], \"So accuracy shouldn't be :\",np.count_nonzero(test_labels)/test_labels.shape[0], \"or \", 1 -np.count_nonzero(test_labels)/test_labels.shape[0] )"
      ],
      "execution_count": 0,
      "outputs": [
        {
          "output_type": "stream",
          "text": [
            "In train, non zero labels:  963 out of  5062 So accuracy shouldn't be : 0.19024101145792177 or  0.8097589885420782\n",
            "In val, non zero labels:  38 out of  534 So accuracy shouldn't be : 0.07116104868913857 or  0.9288389513108615\n",
            "In test, non zero labels:  268 out of  1212 So accuracy shouldn't be : 0.22112211221122113 or  0.7788778877887789\n"
          ],
          "name": "stdout"
        }
      ]
    },
    {
      "cell_type": "code",
      "metadata": {
        "id": "3_n8acehUeEH",
        "colab_type": "code",
        "colab": {}
      },
      "source": [
        "f1.save(\"sgd_e10_2cnn_67_99.h5\")"
      ],
      "execution_count": 0,
      "outputs": []
    },
    {
      "cell_type": "code",
      "metadata": {
        "id": "ib5NZC5mV9of",
        "colab_type": "code",
        "colab": {}
      },
      "source": [
        "f2.save(\"sgd_tv_e7_2cnn_84_74.h5\")"
      ],
      "execution_count": 0,
      "outputs": []
    }
  ]
}